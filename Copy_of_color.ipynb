{
  "nbformat": 4,
  "nbformat_minor": 0,
  "metadata": {
    "colab": {
      "name": "Copy of color.ipynb",
      "provenance": [],
      "collapsed_sections": [
        "RoCWZIu8khit"
      ],
      "include_colab_link": true
    },
    "kernelspec": {
      "name": "python3",
      "display_name": "Python 3"
    },
    "language_info": {
      "name": "python"
    }
  },
  "cells": [
    {
      "cell_type": "markdown",
      "metadata": {
        "id": "view-in-github",
        "colab_type": "text"
      },
      "source": [
        "<a href=\"https://colab.research.google.com/github/zaherweb/Analyze-A-B-Test-Results/blob/main/Copy_of_color.ipynb\" target=\"_parent\"><img src=\"https://colab.research.google.com/assets/colab-badge.svg\" alt=\"Open In Colab\"/></a>"
      ]
    },
    {
      "cell_type": "markdown",
      "source": [
        "# worked code for detection "
      ],
      "metadata": {
        "id": "rfJi8cZ6kdTv"
      }
    },
    {
      "cell_type": "code",
      "source": [
        "! pip install webcolors"
      ],
      "metadata": {
        "colab": {
          "base_uri": "https://localhost:8080/"
        },
        "id": "jfXmSmDoHh9G",
        "outputId": "825d8391-cbdf-4f65-9412-c074a7958439"
      },
      "execution_count": null,
      "outputs": [
        {
          "output_type": "stream",
          "name": "stdout",
          "text": [
            "Collecting webcolors\n",
            "  Downloading webcolors-1.11.1-py3-none-any.whl (9.9 kB)\n",
            "Installing collected packages: webcolors\n",
            "Successfully installed webcolors-1.11.1\n"
          ]
        }
      ]
    },
    {
      "cell_type": "code",
      "source": [
        "from scipy.spatial import KDTree\n",
        "import  webcolors \n",
        "\n",
        "def convert_rgb_to_names(rgb_tuple):\n",
        "    \n",
        "    # a dictionary of all the hex and their respective names in css3\n",
        "    names = []\n",
        "    rgb_values = []\n",
        "    for color_hex, color_name in webcolors.CSS3_HEX_TO_NAMES.items():\n",
        "        names.append(color_name)\n",
        "        rgb_values.append(webcolors.hex_to_rgb(color_hex))\n",
        "    \n",
        "    kdt_db = KDTree(rgb_values)\n",
        "    distance, index = kdt_db.query(rgb_tuple)\n",
        "    return f'closest match: {names[index]}'"
      ],
      "metadata": {
        "id": "6Q6_yB8wlGhW"
      },
      "execution_count": null,
      "outputs": []
    },
    {
      "cell_type": "code",
      "source": [
        "import cv2\n",
        "import numpy as np\n",
        "\n",
        "# https://stackoverflow.com/questions/50178248/detect-color-in-the-middle-of-image-opencv-python\n",
        "# https://medium.com/codex/rgb-to-color-names-in-python-the-robust-way-ec4a9d97a01f\n",
        "\n",
        "\n",
        "\n",
        "\n",
        "img = cv2.imread(\"/content/13-Yellow-orange.jpg\")\n",
        "\n",
        "height, width, depth = img.shape\n",
        "circle_img = np.zeros((height, width), np.uint8)\n",
        "\n",
        "mask = cv2.circle(circle_img, (int(width / 2), int(height / 2)), 1, 1, thickness=-1)\n",
        "masked_img = cv2.bitwise_and(img, img, mask=circle_img)\n",
        "\n",
        "circle_locations = mask == 1\n",
        "bgr = img[circle_locations]\n",
        "\n",
        "rgb = bgr[..., ::-1]\n",
        "\n",
        "print((rgb)[0])\n",
        "print(convert_rgb_to_names((rgb)[0]))\n"
      ],
      "metadata": {
        "colab": {
          "base_uri": "https://localhost:8080/"
        },
        "id": "CyQ_Nz8ie4MU",
        "outputId": "41a53acc-8998-4b55-8b51-cc1ea0697f95"
      },
      "execution_count": null,
      "outputs": [
        {
          "output_type": "stream",
          "name": "stdout",
          "text": [
            "[250 127   0]\n",
            "closest match: darkorange\n"
          ]
        }
      ]
    },
    {
      "cell_type": "markdown",
      "source": [
        "# Advanced work for improvments"
      ],
      "metadata": {
        "id": "RoCWZIu8khit"
      }
    },
    {
      "cell_type": "code",
      "source": [
        "import webcolors\n",
        "\n",
        "def closest_colour(requested_colour):\n",
        "    min_colours = {}\n",
        "    for key, name in webcolors.CSS3_HEX_TO_NAMES.items():\n",
        "        r_c, g_c, b_c = webcolors.hex_to_rgb(key)\n",
        "        rd = (r_c - requested_colour[0]) ** 2\n",
        "        gd = (g_c - requested_colour[1]) ** 2\n",
        "        bd = (b_c - requested_colour[2]) ** 2\n",
        "        min_colours[(rd + gd + bd)] = name\n",
        "    return min_colours[min(min_colours.keys())]\n",
        "\n",
        "def get_colour_name(requested_colour):\n",
        "    try:\n",
        "        closest_name = actual_name = webcolors.rgb_to_name(requested_colour)\n",
        "    except ValueError:\n",
        "        closest_name = closest_colour(requested_colour)\n",
        "        actual_name = None\n",
        "    return actual_name, closest_name\n",
        "\n",
        "requested_colour = (119, 172, 152)\n",
        "actual_name, closest_name = get_colour_name(requested_colour)\n",
        "\n",
        "print (\"Actual colour name:\", actual_name, \", closest colour name:\", closest_name)"
      ],
      "metadata": {
        "colab": {
          "base_uri": "https://localhost:8080/"
        },
        "id": "96hcZ2QlidpB",
        "outputId": "cb7acd04-3310-492c-d216-93d2d9406fa8"
      },
      "execution_count": null,
      "outputs": [
        {
          "output_type": "stream",
          "name": "stdout",
          "text": [
            "Actual colour name: None , closest colour name: cadetblue\n"
          ]
        }
      ]
    },
    {
      "cell_type": "code",
      "source": [
        ""
      ],
      "metadata": {
        "id": "UeOHwLnLijLK"
      },
      "execution_count": null,
      "outputs": []
    }
  ]
}